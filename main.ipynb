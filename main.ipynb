{
 "cells": [
  {
   "cell_type": "code",
   "execution_count": 1,
   "metadata": {},
   "outputs": [],
   "source": [
    "# Downloading the dataset\n",
    "# ! python -m wget \"https://storage.googleapis.com/laurencemoroney-blog.appspot.com/rps.zip\""
   ]
  },
  {
   "cell_type": "code",
   "execution_count": 2,
   "metadata": {},
   "outputs": [],
   "source": [
    "# import zipfile\n",
    "# with zipfile.ZipFile('rps.zip', 'r') as zip_ref:\n",
    "#     zip_ref.extractall()\n"
   ]
  },
  {
   "cell_type": "code",
   "execution_count": 3,
   "metadata": {},
   "outputs": [],
   "source": [
    "# Importing the inception V3 model\n",
    "from tensorflow.keras.applications.inception_v3 import InceptionV3\n",
    "\n",
    "# Downloading the weights\n",
    "import urllib\n",
    "\n",
    "weights = 'https://storage.googleapis.com/mledu-datasets/inception_v3_weights_tf_dim_ordering_tf_kernels_notop.h5'\n",
    "\n",
    "weights_file = 'inception_v3.h5'\n",
    "# urllib.request.urlretrieve(weights, weights_file)"
   ]
  },
  {
   "cell_type": "code",
   "execution_count": 4,
   "metadata": {},
   "outputs": [],
   "source": [
    "# Loading the weights\n",
    "pretrained_model = InceptionV3(\n",
    "    input_shape=(150, 150, 3),\n",
    "    include_top=False,\n",
    "    weights=None\n",
    ")\n",
    "\n",
    "pretrained_model.load_weights(weights_file)"
   ]
  },
  {
   "cell_type": "code",
   "execution_count": 5,
   "metadata": {},
   "outputs": [
    {
     "name": "stdout",
     "output_type": "stream",
     "text": [
      "last layer output shape:  (None, 7, 7, 768)\n"
     ]
    }
   ],
   "source": [
    "for layer in pretrained_model.layers:\n",
    "    layer.trainable = False\n",
    "\n",
    "last_layer = pretrained_model.get_layer('mixed7')\n",
    "print('last layer output shape: ', last_layer.output_shape)\n",
    "last_output = last_layer.output"
   ]
  },
  {
   "cell_type": "code",
   "execution_count": 6,
   "metadata": {},
   "outputs": [],
   "source": [
    "from tensorflow.keras.layers import Flatten, Dense\n",
    "\n",
    "x = Flatten()(last_output)\n",
    "x = Dense(1024, activation='relu')(x)\n",
    "x = Dense(3, activation='softmax')(x)"
   ]
  },
  {
   "cell_type": "code",
   "execution_count": 7,
   "metadata": {},
   "outputs": [],
   "source": [
    "from tensorflow.keras import Model\n",
    "\n",
    "model = Model(pretrained_model.input, x)"
   ]
  },
  {
   "cell_type": "code",
   "execution_count": 8,
   "metadata": {},
   "outputs": [],
   "source": [
    "from tensorflow.keras.optimizers import RMSprop\n",
    "\n",
    "model.compile(loss='categorical_crossentropy',optimizer=RMSprop(learning_rate=0.0001),metrics=['accuracy'])"
   ]
  },
  {
   "cell_type": "code",
   "execution_count": 9,
   "metadata": {},
   "outputs": [],
   "source": [
    "# import image datagenerator\n",
    "\n",
    "from tensorflow.keras.preprocessing.image import ImageDataGenerator"
   ]
  },
  {
   "cell_type": "code",
   "execution_count": 10,
   "metadata": {},
   "outputs": [],
   "source": [
    "training_datagen = ImageDataGenerator(\n",
    "    rescale=1./255,\n",
    "    rotation_range=40,\n",
    "    width_shift_range=0.2,\n",
    "    height_shift_range=0.2,\n",
    "    shear_range=0.2,\n",
    "    zoom_range=0.2,\n",
    "    horizontal_flip=True,\n",
    "    fill_mode='nearest'\n",
    ")"
   ]
  },
  {
   "cell_type": "code",
   "execution_count": 11,
   "metadata": {},
   "outputs": [
    {
     "name": "stdout",
     "output_type": "stream",
     "text": [
      "Found 2520 images belonging to 3 classes.\n"
     ]
    }
   ],
   "source": [
    "training_generator = training_datagen.flow_from_directory('rps', target_size=(150, 150), batch_size=32, class_mode='categorical')"
   ]
  },
  {
   "cell_type": "code",
   "execution_count": 12,
   "metadata": {},
   "outputs": [
    {
     "name": "stdout",
     "output_type": "stream",
     "text": [
      "Epoch 1/25\n",
      "79/79 [==============================] - 16s 148ms/step - loss: 0.4116 - accuracy: 0.8679\n",
      "Epoch 2/25\n",
      "79/79 [==============================] - 11s 144ms/step - loss: 0.1085 - accuracy: 0.9639\n",
      "Epoch 3/25\n",
      "79/79 [==============================] - 11s 144ms/step - loss: 0.0933 - accuracy: 0.9698\n",
      "Epoch 4/25\n",
      "79/79 [==============================] - 12s 146ms/step - loss: 0.0603 - accuracy: 0.9810\n",
      "Epoch 5/25\n",
      "79/79 [==============================] - 11s 144ms/step - loss: 0.0539 - accuracy: 0.9833\n",
      "Epoch 6/25\n",
      "79/79 [==============================] - 11s 144ms/step - loss: 0.0533 - accuracy: 0.9857\n",
      "Epoch 7/25\n",
      "79/79 [==============================] - 12s 147ms/step - loss: 0.0385 - accuracy: 0.9877\n",
      "Epoch 8/25\n",
      "79/79 [==============================] - 12s 147ms/step - loss: 0.0373 - accuracy: 0.9905\n",
      "Epoch 9/25\n",
      "79/79 [==============================] - 12s 145ms/step - loss: 0.0466 - accuracy: 0.9861\n",
      "Epoch 10/25\n",
      "79/79 [==============================] - 12s 145ms/step - loss: 0.0395 - accuracy: 0.9905\n",
      "Epoch 11/25\n",
      "79/79 [==============================] - 12s 146ms/step - loss: 0.0277 - accuracy: 0.9921\n",
      "Epoch 12/25\n",
      "79/79 [==============================] - 12s 147ms/step - loss: 0.0432 - accuracy: 0.9921\n",
      "Epoch 13/25\n",
      "79/79 [==============================] - 12s 145ms/step - loss: 0.0360 - accuracy: 0.9901\n",
      "Epoch 14/25\n",
      "79/79 [==============================] - 11s 145ms/step - loss: 0.0363 - accuracy: 0.9897\n",
      "Epoch 15/25\n",
      "79/79 [==============================] - 12s 145ms/step - loss: 0.0299 - accuracy: 0.9937\n",
      "Epoch 16/25\n",
      "79/79 [==============================] - 11s 145ms/step - loss: 0.0331 - accuracy: 0.9929\n",
      "Epoch 17/25\n",
      "79/79 [==============================] - 11s 145ms/step - loss: 0.0269 - accuracy: 0.9937\n",
      "Epoch 18/25\n",
      "79/79 [==============================] - 12s 145ms/step - loss: 0.0274 - accuracy: 0.9913\n",
      "Epoch 19/25\n",
      "79/79 [==============================] - 12s 146ms/step - loss: 0.0377 - accuracy: 0.9944\n",
      "Epoch 20/25\n",
      "79/79 [==============================] - 12s 145ms/step - loss: 0.0325 - accuracy: 0.9929\n",
      "Epoch 21/25\n",
      "79/79 [==============================] - 12s 145ms/step - loss: 0.0260 - accuracy: 0.9940\n",
      "Epoch 22/25\n",
      "79/79 [==============================] - 11s 144ms/step - loss: 0.0374 - accuracy: 0.9925\n",
      "Epoch 23/25\n",
      "79/79 [==============================] - 12s 146ms/step - loss: 0.0307 - accuracy: 0.9940\n",
      "Epoch 24/25\n",
      "79/79 [==============================] - 11s 144ms/step - loss: 0.0321 - accuracy: 0.9933\n",
      "Epoch 25/25\n",
      "79/79 [==============================] - 11s 145ms/step - loss: 0.0320 - accuracy: 0.9909\n"
     ]
    }
   ],
   "source": [
    "history = model.fit(training_generator,epochs=25,verbose=1)"
   ]
  },
  {
   "cell_type": "code",
   "execution_count": null,
   "metadata": {},
   "outputs": [],
   "source": []
  }
 ],
 "metadata": {
  "interpreter": {
   "hash": "c075fae837c3da63eb9e94fd3e60464ac62f213e09c24776c5ba2bfa50290d1d"
  },
  "kernelspec": {
   "display_name": "Python 3.10.4 ('tf2')",
   "language": "python",
   "name": "python3"
  },
  "language_info": {
   "codemirror_mode": {
    "name": "ipython",
    "version": 3
   },
   "file_extension": ".py",
   "mimetype": "text/x-python",
   "name": "python",
   "nbconvert_exporter": "python",
   "pygments_lexer": "ipython3",
   "version": "3.10.4"
  },
  "orig_nbformat": 4
 },
 "nbformat": 4,
 "nbformat_minor": 2
}
