{
 "cells": [
  {
   "cell_type": "code",
   "execution_count": 1,
   "metadata": {},
   "outputs": [
    {
     "name": "stderr",
     "output_type": "stream",
     "text": [
      "e:\\Anaconda\\envs\\tf2\\python.exe: No module named wget\n"
     ]
    }
   ],
   "source": [
    "# Downloading the dataset\n",
    "! python -m wget \"https://storage.googleapis.com/laurencemoroney-blog.appspot.com/rps.zip\""
   ]
  },
  {
   "cell_type": "code",
   "execution_count": 2,
   "metadata": {},
   "outputs": [],
   "source": [
    "import zipfile\n",
    "with zipfile.ZipFile('rps.zip', 'r') as zip_ref:\n",
    "    zip_ref.extractall()\n"
   ]
  },
  {
   "cell_type": "code",
   "execution_count": 3,
   "metadata": {},
   "outputs": [],
   "source": [
    "# Importing the inception V3 model\n",
    "from tensorflow.keras.applications.inception_v3 import InceptionV3\n",
    "\n",
    "# Downloading the weights\n",
    "import urllib\n",
    "\n",
    "weights = 'https://storage.googleapis.com/mledu-datasets/inception_v3_weights_tf_dim_ordering_tf_kernels_notop.h5'\n",
    "\n",
    "weights_file = 'inception_v3.h5'\n",
    "urllib.request.urlretrieve(weights, weights_file)"
   ]
  },
  {
   "cell_type": "code",
   "execution_count": 4,
   "metadata": {},
   "outputs": [],
   "source": [
    "# Loading the weights\n",
    "pretrained_model = InceptionV3(\n",
    "    input_shape=(150, 150, 3),\n",
    "    include_top=False,\n",
    "    weights=None\n",
    ")\n",
    "\n",
    "pretrained_model.load_weights(weights_file)"
   ]
  },
  {
   "cell_type": "code",
   "execution_count": 5,
   "metadata": {},
   "outputs": [
    {
     "name": "stdout",
     "output_type": "stream",
     "text": [
      "last layer output shape:  (None, 7, 7, 768)\n"
     ]
    }
   ],
   "source": [
    "for layer in pretrained_model.layers:\n",
    "    layer.trainable = False\n",
    "\n",
    "last_layer = pretrained_model.get_layer('mixed7')\n",
    "print('last layer output shape: ', last_layer.output_shape)\n",
    "last_output = last_layer.output"
   ]
  },
  {
   "cell_type": "code",
   "execution_count": 6,
   "metadata": {},
   "outputs": [],
   "source": [
    "from tensorflow.keras.layers import Flatten, Dense\n",
    "\n",
    "x = Flatten()(last_output)\n",
    "x = Dense(1024, activation='relu')(x)\n",
    "x = Dense(3, activation='softmax')(x)"
   ]
  },
  {
   "cell_type": "code",
   "execution_count": 7,
   "metadata": {},
   "outputs": [],
   "source": [
    "from tensorflow.keras import Model\n",
    "\n",
    "model = Model(pretrained_model.input, x)"
   ]
  },
  {
   "cell_type": "code",
   "execution_count": 8,
   "metadata": {},
   "outputs": [],
   "source": [
    "from tensorflow.keras.optimizers import RMSprop\n",
    "\n",
    "model.compile(loss='categorical_crossentropy',optimizer=RMSprop(learning_rate=0.0001),metrics=['accuracy'])"
   ]
  },
  {
   "cell_type": "code",
   "execution_count": 9,
   "metadata": {},
   "outputs": [],
   "source": [
    "# import image datagenerator\n",
    "\n",
    "from tensorflow.keras.preprocessing.image import ImageDataGenerator"
   ]
  },
  {
   "cell_type": "code",
   "execution_count": 10,
   "metadata": {},
   "outputs": [],
   "source": [
    "training_datagen = ImageDataGenerator(\n",
    "    rescale=1./255,\n",
    "    rotation_range=40,\n",
    "    width_shift_range=0.2,\n",
    "    height_shift_range=0.2,\n",
    "    shear_range=0.2,\n",
    "    zoom_range=0.2,\n",
    "    horizontal_flip=True,\n",
    "    fill_mode='nearest'\n",
    ")"
   ]
  },
  {
   "cell_type": "code",
   "execution_count": 11,
   "metadata": {},
   "outputs": [
    {
     "name": "stdout",
     "output_type": "stream",
     "text": [
      "Found 2520 images belonging to 3 classes.\n"
     ]
    }
   ],
   "source": [
    "training_generator = training_datagen.flow_from_directory('rps', target_size=(150, 150), batch_size=32, class_mode='categorical')"
   ]
  },
  {
   "cell_type": "code",
   "execution_count": 13,
   "metadata": {},
   "outputs": [
    {
     "name": "stdout",
     "output_type": "stream",
     "text": [
      "Epoch 1/25\n",
      "79/79 [==============================] - 16s 204ms/step - loss: 0.1753 - accuracy: 0.9437\n",
      "Epoch 2/25\n",
      "79/79 [==============================] - 12s 151ms/step - loss: 0.0914 - accuracy: 0.9655\n",
      "Epoch 3/25\n",
      "79/79 [==============================] - 12s 157ms/step - loss: 0.0748 - accuracy: 0.9770\n",
      "Epoch 4/25\n",
      "79/79 [==============================] - 13s 168ms/step - loss: 0.0583 - accuracy: 0.9813\n",
      "Epoch 5/25\n",
      "79/79 [==============================] - 12s 145ms/step - loss: 0.0707 - accuracy: 0.9802\n",
      "Epoch 6/25\n",
      "79/79 [==============================] - 12s 145ms/step - loss: 0.0544 - accuracy: 0.9829\n",
      "Epoch 7/25\n",
      "79/79 [==============================] - 12s 151ms/step - loss: 0.0407 - accuracy: 0.9873\n",
      "Epoch 8/25\n",
      "79/79 [==============================] - 12s 147ms/step - loss: 0.0336 - accuracy: 0.9889\n",
      "Epoch 9/25\n",
      "79/79 [==============================] - 12s 148ms/step - loss: 0.0223 - accuracy: 0.9925\n",
      "Epoch 10/25\n",
      "79/79 [==============================] - 12s 148ms/step - loss: 0.0400 - accuracy: 0.9905\n",
      "Epoch 11/25\n",
      "79/79 [==============================] - 12s 152ms/step - loss: 0.0257 - accuracy: 0.9921\n",
      "Epoch 12/25\n",
      "79/79 [==============================] - 12s 151ms/step - loss: 0.0381 - accuracy: 0.9893\n",
      "Epoch 13/25\n",
      "79/79 [==============================] - 12s 153ms/step - loss: 0.0418 - accuracy: 0.9885\n",
      "Epoch 14/25\n",
      "79/79 [==============================] - 13s 164ms/step - loss: 0.0249 - accuracy: 0.9929\n",
      "Epoch 15/25\n",
      "79/79 [==============================] - 12s 150ms/step - loss: 0.0324 - accuracy: 0.9937\n",
      "Epoch 16/25\n",
      "79/79 [==============================] - 12s 147ms/step - loss: 0.0152 - accuracy: 0.9952\n",
      "Epoch 17/25\n",
      "79/79 [==============================] - 12s 146ms/step - loss: 0.0467 - accuracy: 0.9905\n",
      "Epoch 18/25\n",
      "79/79 [==============================] - 12s 148ms/step - loss: 0.0381 - accuracy: 0.9917\n",
      "Epoch 19/25\n",
      "79/79 [==============================] - 12s 146ms/step - loss: 0.0085 - accuracy: 0.9972\n",
      "Epoch 20/25\n",
      "79/79 [==============================] - 12s 147ms/step - loss: 0.0416 - accuracy: 0.9913\n",
      "Epoch 21/25\n",
      "79/79 [==============================] - 12s 146ms/step - loss: 0.0241 - accuracy: 0.9956\n",
      "Epoch 22/25\n",
      "79/79 [==============================] - 12s 146ms/step - loss: 0.0315 - accuracy: 0.9929\n",
      "Epoch 23/25\n",
      "79/79 [==============================] - 11s 144ms/step - loss: 0.0239 - accuracy: 0.9964\n",
      "Epoch 24/25\n",
      "79/79 [==============================] - 11s 145ms/step - loss: 0.0345 - accuracy: 0.9952\n",
      "Epoch 25/25\n",
      "79/79 [==============================] - 12s 146ms/step - loss: 0.0526 - accuracy: 0.9893\n"
     ]
    }
   ],
   "source": [
    "history = model.fit(training_generator,epochs=25,verbose=1)"
   ]
  }
 ],
 "metadata": {
  "interpreter": {
   "hash": "c075fae837c3da63eb9e94fd3e60464ac62f213e09c24776c5ba2bfa50290d1d"
  },
  "kernelspec": {
   "display_name": "Python 3.10.4 ('tf2')",
   "language": "python",
   "name": "python3"
  },
  "language_info": {
   "codemirror_mode": {
    "name": "ipython",
    "version": 3
   },
   "file_extension": ".py",
   "mimetype": "text/x-python",
   "name": "python",
   "nbconvert_exporter": "python",
   "pygments_lexer": "ipython3",
   "version": "3.10.4"
  },
  "orig_nbformat": 4
 },
 "nbformat": 4,
 "nbformat_minor": 2
}
